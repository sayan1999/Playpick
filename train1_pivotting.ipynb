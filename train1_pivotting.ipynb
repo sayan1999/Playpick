{
 "cells": [
  {
   "cell_type": "code",
   "execution_count": 2,
   "id": "0175cc9b-dfcc-4f3d-8135-df5ea0245447",
   "metadata": {},
   "outputs": [],
   "source": [
    "import pandas as pd\n",
    "import matplotlib.pyplot as plt\n",
    "import numpy as np\n",
    "import json"
   ]
  },
  {
   "cell_type": "code",
   "execution_count": 3,
   "id": "e1525005-7da8-4c34-85c0-117464d07ce4",
   "metadata": {},
   "outputs": [],
   "source": [
    "MIN_RATINGS_FOR_USER = 100\n",
    "MIN_RATINGS_FOR_Movie = 300"
   ]
  },
  {
   "cell_type": "markdown",
   "id": "a8bf6f5b-d3ec-40ef-820c-342ac28551d2",
   "metadata": {},
   "source": [
    "# dataset"
   ]
  },
  {
   "cell_type": "code",
   "execution_count": 4,
   "id": "b0f3236d-255d-4efa-93fd-e11fc75a82d9",
   "metadata": {},
   "outputs": [],
   "source": [
    "# read imdb data\n",
    "movies = pd.read_csv(\"data/ml-latest/movies.csv\")\n",
    "ratings = pd.read_csv(\"data/ml-latest/ratings.csv\")"
   ]
  },
  {
   "cell_type": "code",
   "execution_count": 5,
   "id": "c42e1b7a-ffa3-4ef5-ac9e-b54e50c588dd",
   "metadata": {},
   "outputs": [],
   "source": [
    "#  remove duplicates\n",
    "duplicateids = movies[movies.title.duplicated(keep='first')]['movieId'].to_list()\n",
    "movies=movies[~movies['movieId'].isin(duplicateids)]\n",
    "ratings=ratings[~ratings['movieId'].isin(duplicateids)]"
   ]
  },
  {
   "cell_type": "code",
   "execution_count": 6,
   "id": "fb3c553b-2363-4b1c-a147-ec22deed0c37",
   "metadata": {},
   "outputs": [
    {
     "data": {
      "text/html": [
       "<div>\n",
       "<style scoped>\n",
       "    .dataframe tbody tr th:only-of-type {\n",
       "        vertical-align: middle;\n",
       "    }\n",
       "\n",
       "    .dataframe tbody tr th {\n",
       "        vertical-align: top;\n",
       "    }\n",
       "\n",
       "    .dataframe thead th {\n",
       "        text-align: right;\n",
       "    }\n",
       "</style>\n",
       "<table border=\"1\" class=\"dataframe\">\n",
       "  <thead>\n",
       "    <tr style=\"text-align: right;\">\n",
       "      <th></th>\n",
       "      <th>userId</th>\n",
       "      <th>movieId</th>\n",
       "      <th>rating</th>\n",
       "      <th>timestamp</th>\n",
       "    </tr>\n",
       "  </thead>\n",
       "  <tbody>\n",
       "    <tr>\n",
       "      <th>0</th>\n",
       "      <td>1</td>\n",
       "      <td>1</td>\n",
       "      <td>4.0</td>\n",
       "      <td>1225734739</td>\n",
       "    </tr>\n",
       "    <tr>\n",
       "      <th>1</th>\n",
       "      <td>1</td>\n",
       "      <td>110</td>\n",
       "      <td>4.0</td>\n",
       "      <td>1225865086</td>\n",
       "    </tr>\n",
       "    <tr>\n",
       "      <th>2</th>\n",
       "      <td>1</td>\n",
       "      <td>158</td>\n",
       "      <td>4.0</td>\n",
       "      <td>1225733503</td>\n",
       "    </tr>\n",
       "    <tr>\n",
       "      <th>3</th>\n",
       "      <td>1</td>\n",
       "      <td>260</td>\n",
       "      <td>4.5</td>\n",
       "      <td>1225735204</td>\n",
       "    </tr>\n",
       "    <tr>\n",
       "      <th>4</th>\n",
       "      <td>1</td>\n",
       "      <td>356</td>\n",
       "      <td>5.0</td>\n",
       "      <td>1225735119</td>\n",
       "    </tr>\n",
       "  </tbody>\n",
       "</table>\n",
       "</div>"
      ],
      "text/plain": [
       "   userId  movieId  rating   timestamp\n",
       "0       1        1     4.0  1225734739\n",
       "1       1      110     4.0  1225865086\n",
       "2       1      158     4.0  1225733503\n",
       "3       1      260     4.5  1225735204\n",
       "4       1      356     5.0  1225735119"
      ]
     },
     "execution_count": 6,
     "metadata": {},
     "output_type": "execute_result"
    }
   ],
   "source": [
    "ratings.head()"
   ]
  },
  {
   "cell_type": "code",
   "execution_count": 7,
   "id": "005aa6f7-785d-4455-b900-ea78ac671d2f",
   "metadata": {},
   "outputs": [
    {
     "data": {
      "text/html": [
       "<div>\n",
       "<style scoped>\n",
       "    .dataframe tbody tr th:only-of-type {\n",
       "        vertical-align: middle;\n",
       "    }\n",
       "\n",
       "    .dataframe tbody tr th {\n",
       "        vertical-align: top;\n",
       "    }\n",
       "\n",
       "    .dataframe thead th {\n",
       "        text-align: right;\n",
       "    }\n",
       "</style>\n",
       "<table border=\"1\" class=\"dataframe\">\n",
       "  <thead>\n",
       "    <tr style=\"text-align: right;\">\n",
       "      <th></th>\n",
       "      <th>title</th>\n",
       "      <th>genres</th>\n",
       "    </tr>\n",
       "    <tr>\n",
       "      <th>movieId</th>\n",
       "      <th></th>\n",
       "      <th></th>\n",
       "    </tr>\n",
       "  </thead>\n",
       "  <tbody>\n",
       "    <tr>\n",
       "      <th>1</th>\n",
       "      <td>Toy Story (1995)</td>\n",
       "      <td>Adventure|Animation|Children|Comedy|Fantasy</td>\n",
       "    </tr>\n",
       "    <tr>\n",
       "      <th>2</th>\n",
       "      <td>Jumanji (1995)</td>\n",
       "      <td>Adventure|Children|Fantasy</td>\n",
       "    </tr>\n",
       "    <tr>\n",
       "      <th>3</th>\n",
       "      <td>Grumpier Old Men (1995)</td>\n",
       "      <td>Comedy|Romance</td>\n",
       "    </tr>\n",
       "    <tr>\n",
       "      <th>4</th>\n",
       "      <td>Waiting to Exhale (1995)</td>\n",
       "      <td>Comedy|Drama|Romance</td>\n",
       "    </tr>\n",
       "    <tr>\n",
       "      <th>5</th>\n",
       "      <td>Father of the Bride Part II (1995)</td>\n",
       "      <td>Comedy</td>\n",
       "    </tr>\n",
       "  </tbody>\n",
       "</table>\n",
       "</div>"
      ],
      "text/plain": [
       "                                      title  \\\n",
       "movieId                                       \n",
       "1                          Toy Story (1995)   \n",
       "2                            Jumanji (1995)   \n",
       "3                   Grumpier Old Men (1995)   \n",
       "4                  Waiting to Exhale (1995)   \n",
       "5        Father of the Bride Part II (1995)   \n",
       "\n",
       "                                              genres  \n",
       "movieId                                               \n",
       "1        Adventure|Animation|Children|Comedy|Fantasy  \n",
       "2                         Adventure|Children|Fantasy  \n",
       "3                                     Comedy|Romance  \n",
       "4                               Comedy|Drama|Romance  \n",
       "5                                             Comedy  "
      ]
     },
     "execution_count": 7,
     "metadata": {},
     "output_type": "execute_result"
    }
   ],
   "source": [
    "movies = movies.set_index('movieId')\n",
    "movies.head()"
   ]
  },
  {
   "cell_type": "code",
   "execution_count": 8,
   "id": "ce40e036-017f-46a1-b4f2-30ad83a5a74a",
   "metadata": {},
   "outputs": [],
   "source": [
    "reviews=pd.DataFrame(ratings.groupby('movieId').apply(len), columns = ['Reviews'])\n",
    "meanrating = ratings.groupby('movieId')[['rating']].aggregate('mean')"
   ]
  },
  {
   "cell_type": "code",
   "execution_count": 9,
   "id": "0a6f30f6-98e4-4eaf-9e86-e2547e3c00d8",
   "metadata": {},
   "outputs": [],
   "source": [
    "moviesinfo=pd.concat([movies, meanrating, reviews], axis=1)"
   ]
  },
  {
   "cell_type": "code",
   "execution_count": null,
   "id": "3d4fb403-91a3-480a-82b5-cb078397fc36",
   "metadata": {},
   "outputs": [],
   "source": []
  },
  {
   "cell_type": "markdown",
   "id": "101300cf-3211-4fa8-9024-285466a5ca41",
   "metadata": {},
   "source": [
    "# remove insignificant movie and users"
   ]
  },
  {
   "cell_type": "code",
   "execution_count": 10,
   "id": "7bab1515-dfcd-40a1-91ad-5f62881ca3f0",
   "metadata": {},
   "outputs": [],
   "source": [
    "ratings['rating']=ratings['rating'].astype(int)"
   ]
  },
  {
   "cell_type": "code",
   "execution_count": 11,
   "id": "ed77c27b-f3ce-4139-b19f-f6ae9a2e793f",
   "metadata": {},
   "outputs": [
    {
     "data": {
      "text/plain": [
       "33828467"
      ]
     },
     "execution_count": 11,
     "metadata": {},
     "output_type": "execute_result"
    }
   ],
   "source": [
    "len(ratings)"
   ]
  },
  {
   "cell_type": "code",
   "execution_count": 12,
   "id": "431f091d-f267-4a82-85b4-e30dcc3bfa61",
   "metadata": {},
   "outputs": [
    {
     "data": {
      "image/png": "[encoded data removed]",
      "text/plain": [
       "<Figure size 640x480 with 1 Axes>"
      ]
     },
     "metadata": {},
     "output_type": "display_data"
    }
   ],
   "source": [
    "ratingsPerUser = ratings.groupby('userId').apply(len)\n",
    "ratingsPerUser =  ratingsPerUser[ratingsPerUser>MIN_RATINGS_FOR_USER].reset_index(drop=True)\n",
    "ratingsPerUser.hist(bins=50)\n",
    "plt.xlabel('No. of ratings')\n",
    "plt.ylabel('No. of users')\n",
    "plt.show()"
   ]
  },
  {
   "cell_type": "code",
   "execution_count": 13,
   "id": "53e76f9e-65ff-4abe-90bc-df0c342f113f",
   "metadata": {},
   "outputs": [
    {
     "data": {
      "text/plain": [
       "330974"
      ]
     },
     "execution_count": 13,
     "metadata": {},
     "output_type": "execute_result"
    }
   ],
   "source": [
    "len(ratings.groupby('userId'))"
   ]
  },
  {
   "cell_type": "code",
   "execution_count": 14,
   "id": "cd232d31-c2c4-4d66-b91f-f96c0178ac07",
   "metadata": {},
   "outputs": [
    {
     "data": {
      "text/plain": [
       "330974"
      ]
     },
     "execution_count": 14,
     "metadata": {},
     "output_type": "execute_result"
    }
   ],
   "source": [
    "len(ratings.groupby('userId'))"
   ]
  },
  {
   "cell_type": "code",
   "execution_count": 15,
   "id": "9d26cd8b-c01d-43a8-95d7-4efbbe1c5112",
   "metadata": {},
   "outputs": [
    {
     "data": {
      "text/plain": [
       "83040"
      ]
     },
     "execution_count": 15,
     "metadata": {},
     "output_type": "execute_result"
    }
   ],
   "source": [
    "len(ratings.groupby('movieId'))"
   ]
  },
  {
   "cell_type": "code",
   "execution_count": null,
   "id": "e5a9112e-7978-43dd-b3e6-ea5e0f9ce37a",
   "metadata": {},
   "outputs": [],
   "source": []
  },
  {
   "cell_type": "code",
   "execution_count": 16,
   "id": "a76f2ee1-9e2f-4aab-932b-7fee0e6f6616",
   "metadata": {},
   "outputs": [],
   "source": [
    "ratingsPerUser = ratings.groupby('userId').apply(len)\n",
    "insignificantUsers =  ratingsPerUser[ratingsPerUser<MIN_RATINGS_FOR_USER].index.to_list()\n",
    "ratings=ratings[~ratings['userId'].isin(insignificantUsers)]"
   ]
  },
  {
   "cell_type": "code",
   "execution_count": 17,
   "id": "a1d3b7c7-a4c0-4286-8137-1bc0c398aa56",
   "metadata": {},
   "outputs": [
    {
     "data": {
      "image/png": "[encoded data removed]",
      "text/plain": [
       "<Figure size 640x480 with 1 Axes>"
      ]
     },
     "metadata": {},
     "output_type": "display_data"
    }
   ],
   "source": [
    "ratingsPerMovie = ratings.groupby('movieId').apply(len)\n",
    "ratingsPerMovie =  ratingsPerMovie[ratingsPerMovie>MIN_RATINGS_FOR_Movie].reset_index(drop=True)\n",
    "ratingsPerMovie.hist(bins=20)\n",
    "plt.xlabel('No. of ratings')\n",
    "plt.ylabel('No. of movies')\n",
    "plt.show()"
   ]
  },
  {
   "cell_type": "code",
   "execution_count": null,
   "id": "91131e78-3b89-45b9-8b62-aedc9e083e7c",
   "metadata": {},
   "outputs": [],
   "source": []
  },
  {
   "cell_type": "code",
   "execution_count": 18,
   "id": "1c63a9fd-8070-4028-b14d-d0a699ab9465",
   "metadata": {},
   "outputs": [],
   "source": [
    "ratingsPerMovie = ratings.groupby('movieId').apply(len)\n",
    "insignificantMovies =  ratingsPerMovie[ratingsPerMovie<MIN_RATINGS_FOR_Movie].index.to_list()\n",
    "ratings=ratings[~ratings['movieId'].isin(insignificantMovies)]"
   ]
  },
  {
   "cell_type": "code",
   "execution_count": null,
   "id": "143ff080-1bd8-487d-bf2f-9b844b1280f6",
   "metadata": {},
   "outputs": [],
   "source": []
  },
  {
   "cell_type": "code",
   "execution_count": 19,
   "id": "d0c64c9d-92fb-4b36-84b1-d1d6f5eddc7d",
   "metadata": {},
   "outputs": [
    {
     "data": {
      "text/plain": [
       "82049"
      ]
     },
     "execution_count": 19,
     "metadata": {},
     "output_type": "execute_result"
    }
   ],
   "source": [
    "len(ratings.groupby('userId'))"
   ]
  },
  {
   "cell_type": "code",
   "execution_count": 20,
   "id": "5dc4c18c-0b3f-400c-bd2d-e0c48b48b432",
   "metadata": {},
   "outputs": [
    {
     "data": {
      "text/plain": [
       "7613"
      ]
     },
     "execution_count": 20,
     "metadata": {},
     "output_type": "execute_result"
    }
   ],
   "source": [
    "len(ratings.groupby('movieId'))"
   ]
  },
  {
   "cell_type": "code",
   "execution_count": 21,
   "id": "ab1f36b2-68e9-489f-9332-f167a377c3f0",
   "metadata": {},
   "outputs": [
    {
     "data": {
      "text/plain": [
       "25214563"
      ]
     },
     "execution_count": 21,
     "metadata": {},
     "output_type": "execute_result"
    }
   ],
   "source": [
    "len(ratings)"
   ]
  },
  {
   "cell_type": "code",
   "execution_count": 22,
   "id": "e750dc5a-c45b-4234-be00-489d5a2f2bdb",
   "metadata": {},
   "outputs": [],
   "source": [
    "moviesinfo = moviesinfo[~moviesinfo.index.isin(insignificantMovies)]"
   ]
  },
  {
   "cell_type": "markdown",
   "id": "fb87b727-455b-4742-ab73-370456b01b16",
   "metadata": {},
   "source": [
    "# pivot_table"
   ]
  },
  {
   "cell_type": "code",
   "execution_count": 23,
   "id": "634ef8fb-cda1-40aa-ab99-203a8f1f74d6",
   "metadata": {},
   "outputs": [],
   "source": [
    "cf_table = ratings.pivot_table(columns=['movieId'], values = ['rating'], index='userId')"
   ]
  },
  {
   "cell_type": "code",
   "execution_count": 24,
   "id": "c0df3f08-4057-4f27-a394-46ff95e95530",
   "metadata": {},
   "outputs": [],
   "source": [
    "cf_table.fillna(0, inplace=True)"
   ]
  },
  {
   "cell_type": "code",
   "execution_count": 25,
   "id": "e1fda600-ba67-404b-be04-bf5687b681ea",
   "metadata": {},
   "outputs": [
    {
     "data": {
      "text/plain": [
       "(82049, 7613)"
      ]
     },
     "execution_count": 25,
     "metadata": {},
     "output_type": "execute_result"
    }
   ],
   "source": [
    "cf_table.to_numpy().shape"
   ]
  },
  {
   "cell_type": "markdown",
   "id": "d2a1b28f-b444-4e38-91a9-0cc9424de111",
   "metadata": {},
   "source": [
    "# save data"
   ]
  },
  {
   "cell_type": "code",
   "execution_count": 26,
   "id": "b24aa125-967c-4cf5-b993-d64e7b3ccb0a",
   "metadata": {},
   "outputs": [],
   "source": [
    "np.save('data/pivot.npy', cf_table.to_numpy().astype(int))"
   ]
  },
  {
   "cell_type": "code",
   "execution_count": 27,
   "id": "a81dd1e7-bccc-44b8-8ac0-6c30e2ee0f7e",
   "metadata": {},
   "outputs": [],
   "source": [
    "json.dump(list(cf_table.columns.droplevel(0)), open('data/movies.json', 'w+'))"
   ]
  },
  {
   "cell_type": "code",
   "execution_count": 28,
   "id": "168a72d4-4225-4f3d-af98-b9cd9512a8f8",
   "metadata": {},
   "outputs": [],
   "source": [
    "moviesinfo.to_csv('model/moviesinfo.csv', index=False)"
   ]
  },
  {
   "cell_type": "code",
   "execution_count": null,
   "id": "9b741557-7dbe-4db8-8793-9b90c93777a5",
   "metadata": {},
   "outputs": [],
   "source": []
  }
 ],
 "metadata": {
  "kernelspec": {
   "display_name": "tfcert",
   "language": "python",
   "name": "tfcert"
  },
  "language_info": {
   "codemirror_mode": {
    "name": "ipython",
    "version": 3
   },
   "file_extension": ".py",
   "mimetype": "text/x-python",
   "name": "python",
   "nbconvert_exporter": "python",
   "pygments_lexer": "ipython3",
   "version": "3.8.18"
  }
 },
 "nbformat": 4,
 "nbformat_minor": 5
}
