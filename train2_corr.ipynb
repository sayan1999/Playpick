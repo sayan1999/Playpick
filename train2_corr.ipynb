{
 "cells": [
  {
   "cell_type": "code",
   "execution_count": 1,
   "id": "03eda879-97a6-45f0-bda8-5c570c17aed8",
   "metadata": {},
   "outputs": [],
   "source": [
    "import numpy as np\n",
    "import json\n",
    "import pandas as pd\n",
    "from sklearn.model_selection import train_test_split\n",
    "import random"
   ]
  },
  {
   "cell_type": "code",
   "execution_count": null,
   "id": "2e63516a-cce2-448f-a388-c72c983159ff",
   "metadata": {},
   "outputs": [],
   "source": []
  },
  {
   "cell_type": "markdown",
   "id": "5b40c01e-b841-4e98-a3d9-dca7c74bae52",
   "metadata": {},
   "source": [
    "# load data"
   ]
  },
  {
   "cell_type": "code",
   "execution_count": 5,
   "id": "427a9386-3cfd-48cb-9d7c-e499e66dde5b",
   "metadata": {
    "scrolled": true
   },
   "outputs": [],
   "source": [
    "movies = pd.read_csv(\"data/ml-latest/movies.csv\").set_index('movieId')\n",
    "moviesid=[id for id in json.load(open('data/movies.json'))]\n",
    "columns=movies.loc[moviesid]['title'].to_list()"
   ]
  },
  {
   "cell_type": "code",
   "execution_count": 7,
   "id": "00912489-9d5c-4512-a5f9-2d6820a18157",
   "metadata": {},
   "outputs": [],
   "source": [
    "pivot = np.load('data/pivot.npy')\n",
    "train_pivot, test_pivot, _, _ = train_test_split(pivot, range(len(pivot)), random_state=23)\n",
    "del(pivot)"
   ]
  },
  {
   "cell_type": "code",
   "execution_count": 8,
   "id": "6506629b-933d-4466-9659-3d31034328bd",
   "metadata": {},
   "outputs": [
    {
     "data": {
      "text/plain": [
       "7613"
      ]
     },
     "execution_count": 8,
     "metadata": {},
     "output_type": "execute_result"
    }
   ],
   "source": []
  },
  {
   "cell_type": "markdown",
   "id": "298b742c-1a9c-44fe-ab24-06c5fdb35d66",
   "metadata": {},
   "source": [
    "# Correlation"
   ]
  },
  {
   "cell_type": "code",
   "execution_count": 9,
   "id": "58ef4a0b-438c-4662-b63f-0e6d41e63d36",
   "metadata": {
    "scrolled": true
   },
   "outputs": [],
   "source": [
    "corr = np.corrcoef(train_pivot.T)"
   ]
  },
  {
   "cell_type": "code",
   "execution_count": 10,
   "id": "7d2a6b53-adf8-431c-8615-fa3797d5209c",
   "metadata": {},
   "outputs": [],
   "source": [
    "corrdf = pd.DataFrame(corr, index=columns, columns=columns)"
   ]
  },
  {
   "cell_type": "code",
   "execution_count": null,
   "id": "f7f33cf8-9298-404e-9f45-e3beadd9d4c6",
   "metadata": {},
   "outputs": [],
   "source": []
  },
  {
   "cell_type": "markdown",
   "id": "654a834a-e018-4c54-933f-26b935fc108a",
   "metadata": {},
   "source": [
    "# recommendation"
   ]
  },
  {
   "cell_type": "code",
   "execution_count": 11,
   "id": "54091c40-c8c9-4359-9f10-bb70248527eb",
   "metadata": {},
   "outputs": [
    {
     "data": {
      "text/plain": [
       "Avengers: Infinity War - Part I (2018)     1.500000\n",
       "Avengers: Infinity War - Part II (2019)    1.167914\n",
       "Thor: Ragnarok (2017)                      1.157925\n",
       "Guardians of the Galaxy 2 (2017)           1.020817\n",
       "Untitled Spider-Man Reboot (2017)          1.012772\n",
       "                                             ...   \n",
       "Shakespeare in Love (1998)                -0.157674\n",
       "Dead Man Walking (1995)                   -0.157786\n",
       "Get Shorty (1995)                         -0.167092\n",
       "Four Weddings and a Funeral (1994)        -0.174556\n",
       "Dances with Wolves (1990)                 -0.191160\n",
       "Name: Avengers: Infinity War - Part I (2018), Length: 7613, dtype: float64"
      ]
     },
     "execution_count": 11,
     "metadata": {},
     "output_type": "execute_result"
    }
   ],
   "source": [
    "def get_recommendation(movie_name, user_rating):\n",
    "    sim = corrdf[movie_name]*(user_rating-2.5)\n",
    "    return sim.sort_values(ascending=False)\n",
    "\n",
    "get_recommendation(\"Avengers: Infinity War - Part I (2018)\", 4)"
   ]
  },
  {
   "cell_type": "markdown",
   "id": "3cd9ad5a-6674-4694-91d3-851cb2c53d4b",
   "metadata": {},
   "source": [
    "# save model"
   ]
  },
  {
   "cell_type": "code",
   "execution_count": 14,
   "id": "a78e8b65-9a76-45f9-93df-70dfea3f926a",
   "metadata": {},
   "outputs": [],
   "source": [
    "modelnp.save('model/corr.npy', corrdf.to_numpy())"
   ]
  },
  {
   "cell_type": "code",
   "execution_count": 15,
   "id": "62f4d08a-3446-4af3-a00f-6bf54d069cc1",
   "metadata": {},
   "outputs": [],
   "source": [
    "json.dump(list(corrdf.columns), open('model/columns.json', 'w+'))"
   ]
  },
  {
   "cell_type": "code",
   "execution_count": null,
   "id": "947a52a6-85ab-4cd4-8300-b8ff95d04fed",
   "metadata": {},
   "outputs": [],
   "source": []
  }
 ],
 "metadata": {
  "kernelspec": {
   "display_name": "tfcert",
   "language": "python",
   "name": "tfcert"
  },
  "language_info": {
   "codemirror_mode": {
    "name": "ipython",
    "version": 3
   },
   "file_extension": ".py",
   "mimetype": "text/x-python",
   "name": "python",
   "nbconvert_exporter": "python",
   "pygments_lexer": "ipython3",
   "version": "3.8.18"
  }
 },
 "nbformat": 4,
 "nbformat_minor": 5
}
